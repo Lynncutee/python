{
 "cells": [
  {
   "cell_type": "code",
   "execution_count": 2,
   "id": "217c5c5f",
   "metadata": {},
   "outputs": [],
   "source": [
    "# để sửa đổi giá trị list ban đầu sang giá trị khác, ta sử dụng cấu trúc list[vị trí giá trị]= giá trị mới. "
   ]
  },
  {
   "cell_type": "code",
   "execution_count": 3,
   "id": "23baf73f",
   "metadata": {},
   "outputs": [
    {
     "name": "stdout",
     "output_type": "stream",
     "text": [
      "[1, 2, 7, 4, 5]\n"
     ]
    }
   ],
   "source": [
    "list = [1,2,3,4,5]\n",
    "list[2] = 7\n",
    "print(list)"
   ]
  },
  {
   "cell_type": "code",
   "execution_count": 4,
   "id": "4d6886c5",
   "metadata": {},
   "outputs": [],
   "source": [
    "# để thêm 1 giá trị mới chèn thêm vào list ban đầu, ta sử dụng cấu trúc: list.insert(,). Trong đó,trước dấu phẩy sẽ là vị trí giá trị muốn chèn, sau dấu phẩy sẽ là giá trị muốn thay vào"
   ]
  },
  {
   "cell_type": "code",
   "execution_count": 5,
   "id": "9ddffd55",
   "metadata": {},
   "outputs": [
    {
     "name": "stdout",
     "output_type": "stream",
     "text": [
      "[1, 3, 10, 5, 7]\n"
     ]
    }
   ],
   "source": [
    "list = [1,3,5,7]\n",
    "list.insert(2,10)\n",
    "print(list)"
   ]
  },
  {
   "cell_type": "code",
   "execution_count": 6,
   "id": "bca8b13b",
   "metadata": {},
   "outputs": [],
   "source": [
    "# hoặc đơn giản, khi thêm giá trị khác, chúng ta thêm list.append(). Giá trị chúng ta thêm vào trong () sẽ xuất hiện ở cuối danh sách"
   ]
  },
  {
   "cell_type": "code",
   "execution_count": 7,
   "id": "47216e8b",
   "metadata": {},
   "outputs": [
    {
     "name": "stdout",
     "output_type": "stream",
     "text": [
      "[1, 3, 5, 7, 10]\n"
     ]
    }
   ],
   "source": [
    "list = [1,3,5,7]\n",
    "list.append(10)\n",
    "print(list)"
   ]
  },
  {
   "cell_type": "code",
   "execution_count": 8,
   "id": "98b4ff77",
   "metadata": {},
   "outputs": [],
   "source": [
    "# vòng lặp for là vòng lặp lặp đi lặp lại đến khi hết danh sách, sau đây là cấu trúc đơn giản nhất của for"
   ]
  },
  {
   "cell_type": "code",
   "execution_count": 10,
   "id": "cf0c39b9",
   "metadata": {},
   "outputs": [
    {
     "name": "stdout",
     "output_type": "stream",
     "text": [
      "1\n",
      "2\n",
      "3\n",
      "4\n",
      "5\n",
      "6\n",
      "7\n",
      "8\n",
      "9\n"
     ]
    }
   ],
   "source": [
    "for i in range(1,10):\n",
    "    print(i)          # nó sẽ lặp từ số 1 đến số 9 và kết thúc vòng lặp\n",
    "    \n",
    "    # range() sẽ có tối đa 3 giá trị. Trong đó nếu "
   ]
  },
  {
   "cell_type": "code",
   "execution_count": null,
   "id": "111433b3",
   "metadata": {},
   "outputs": [],
   "source": []
  }
 ],
 "metadata": {
  "kernelspec": {
   "display_name": "Python 3 (ipykernel)",
   "language": "python",
   "name": "python3"
  },
  "language_info": {
   "codemirror_mode": {
    "name": "ipython",
    "version": 3
   },
   "file_extension": ".py",
   "mimetype": "text/x-python",
   "name": "python",
   "nbconvert_exporter": "python",
   "pygments_lexer": "ipython3",
   "version": "3.11.3"
  }
 },
 "nbformat": 4,
 "nbformat_minor": 5
}
