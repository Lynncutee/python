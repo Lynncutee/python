{
 "cells": [
  {
   "cell_type": "code",
   "execution_count": null,
   "id": "217c5c5f",
   "metadata": {},
   "outputs": [],
   "source": [
    "# để sửa đổi giá trị list ban đầu sang giá trị khác, ta sử dụng cấu trúc list[vị trí giá trị]= giá trị mới. "
   ]
  },
  {
   "cell_type": "code",
   "execution_count": 3,
   "id": "778509ee",
   "metadata": {},
   "outputs": [
    {
     "name": "stdout",
     "output_type": "stream",
     "text": [
      "[1, 2, 7, 4, 5]\n"
     ]
    }
   ],
   "source": [
    "list = [1,2,3,4,5]\n",
    "list[2] = 7\n",
    "print(list)"
   ]
  },
  {
   "cell_type": "code",
   "execution_count": 4,
   "id": "be9726eb",
   "metadata": {},
   "outputs": [],
   "source": [
    "# để thêm 1 giá trị mới chèn thêm vào list ban đầu, ta sử dụng cấu trúc: list.insert(,). Trong đó,trước dấu phẩy sẽ là vị trí giá trị muốn chèn, sau dấu phẩy sẽ là giá trị muốn thay vào"
   ]
  },
  {
   "cell_type": "code",
   "execution_count": 5,
   "id": "3ddfdba7",
   "metadata": {},
   "outputs": [
    {
     "name": "stdout",
     "output_type": "stream",
     "text": [
      "[1, 3, 10, 5, 7]\n"
     ]
    }
   ],
   "source": [
    "list = [1,3,5,7]\n",
    "list.insert(2,10)\n",
    "print(list)"
   ]
  },
  {
   "cell_type": "code",
   "execution_count": 6,
   "id": "3ae02ff1",
   "metadata": {},
   "outputs": [],
   "source": [
    "# hoặc đơn giản, khi thêm giá trị khác, chúng ta thêm list.append(). Giá trị chúng ta thêm vào trong () sẽ xuất hiện ở cuối danh sách"
   ]
  },
  {
   "cell_type": "code",
   "execution_count": 7,
   "id": "80398e3d",
   "metadata": {},
   "outputs": [
    {
     "name": "stdout",
     "output_type": "stream",
     "text": [
      "[1, 3, 5, 7, 10]\n"
     ]
    }
   ],
   "source": [
    "list = [1,3,5,7]\n",
    "list.append(10)\n",
    "print(list)"
   ]
  },
  {
   "cell_type": "code",
   "execution_count": 8,
   "id": "4deaab2b",
   "metadata": {},
   "outputs": [],
   "source": [
    "# vòng lặp for là vòng lặp lặp đi lặp lại đến khi hết danh sách, sau đây là cấu trúc đơn giản nhất của for"
   ]
  },
  {
   "cell_type": "code",
   "execution_count": 11,
   "id": "4861eb3c",
   "metadata": {},
   "outputs": [
    {
     "name": "stdout",
     "output_type": "stream",
     "text": [
      "1\n",
      "2\n",
      "3\n",
      "4\n",
      "5\n",
      "6\n",
      "7\n",
      "8\n",
      "9\n"
     ]
    }
   ],
   "source": [
    "for i in range(1,10):\n",
    "    print(i)          # nó sẽ lặp từ số 1 đến số 9 và kết thúc vòng lặp\n",
    "    \n",
    "    # range() sẽ có tối đa 3 giá trị. Trong đó nó sẽ phân chia làm 3 thể loại:\n",
    "    # range(5): sẽ trả về 0,1,2,3,4 -> nếu có 1 số, nó sẽ bắt đầu từ số 0 đến cuối là số đó trừ 1\n",
    "    # range(2,6): sẽ trả về 2,3,4,5 -> nếu có 2 số, nó sẽ bắt đầu từ số đầu tiên đến số cuối là số đó trừ 1\n",
    "    # range(2,10,3): sẽ trả về 2,5,8 -> nếu có 3 số, số cuối sẽ là bước nhảy để cộng số đầu và những số tiếp theo cộng với bước nhảy đó và số cuối vẫn là số cuối trừ 1 \n",
    "    "
   ]
  },
  {
   "cell_type": "code",
   "execution_count": 12,
   "id": "d0e76f78",
   "metadata": {},
   "outputs": [],
   "source": [
    "# nếu trong trường hợp in giá trị từ cao xuống thấp, ta sẽ sử dụng bước nhảy. Nhược điểm của phương pháp này là phải tính toán kỹ bước nhảy "
   ]
  },
  {
   "cell_type": "code",
   "execution_count": 13,
   "id": "d108f163",
   "metadata": {},
   "outputs": [
    {
     "name": "stdout",
     "output_type": "stream",
     "text": [
      "9\n",
      "8\n",
      "7\n",
      "6\n",
      "5\n",
      "4\n",
      "3\n",
      "2\n",
      "1\n"
     ]
    }
   ],
   "source": [
    "for i in range (9,0,-1):\n",
    "    print(i) # vì số sau bằng số trước + (-1) còn số cuối bằng số cuối +1 nên có kq như thế "
   ]
  },
  {
   "cell_type": "code",
   "execution_count": 14,
   "id": "1295fce6",
   "metadata": {},
   "outputs": [
    {
     "name": "stdout",
     "output_type": "stream",
     "text": [
      "17\n",
      "16\n",
      "15\n",
      "14\n",
      "13\n",
      "12\n",
      "11\n",
      "10\n",
      "9\n",
      "8\n",
      "7\n",
      "6\n",
      "5\n",
      "4\n"
     ]
    }
   ],
   "source": [
    "for i in range (17,3,-1):\n",
    "    print(i)"
   ]
  },
  {
   "cell_type": "code",
   "execution_count": 15,
   "id": "5955696e",
   "metadata": {},
   "outputs": [],
   "source": [
    "# nhưng cũng có thể viết câu lệnh sau để rút ngắn quá trình "
   ]
  },
  {
   "cell_type": "code",
   "execution_count": 16,
   "id": "393f0f95",
   "metadata": {},
   "outputs": [
    {
     "name": "stdout",
     "output_type": "stream",
     "text": [
      "10\n",
      "9\n",
      "8\n",
      "7\n",
      "6\n",
      "5\n",
      "4\n",
      "3\n",
      "2\n",
      "1\n"
     ]
    }
   ],
   "source": [
    "for i in reversed(range(1,11)):\n",
    "    print (i)"
   ]
  },
  {
   "cell_type": "code",
   "execution_count": 17,
   "id": "cc4b771f",
   "metadata": {},
   "outputs": [],
   "source": [
    "# nhưng với câu lệnh reversed(range()) thì chỉ xử lý được bài toán ngược chiều với bước nhảy là 1. Còn nếu là có bước nhảy >1 thì phải sử dụng lệnh range thường "
   ]
  },
  {
   "cell_type": "code",
   "execution_count": 19,
   "id": "cfd17a8e",
   "metadata": {},
   "outputs": [],
   "source": [
    "# các phép tính cơ bản nhất của toán logic là:\n",
    "# % chia lấy phần dư\n",
    "# / chia các giá trị cho nhau \n",
    "# // chia làm tròn xuống "
   ]
  },
  {
   "cell_type": "code",
   "execution_count": 2,
   "id": "54734a8c",
   "metadata": {},
   "outputs": [
    {
     "name": "stdout",
     "output_type": "stream",
     "text": [
      "20\n"
     ]
    }
   ],
   "source": [
    "# để kiểm tra độ dài của chuỗi, list, danh sách; ta dùng hàm len(tên danh sách/ list)\n",
    "a = \"áduagduiger55we53424\"\n",
    "print(len(a))"
   ]
  },
  {
   "cell_type": "code",
   "execution_count": 3,
   "id": "452c7300",
   "metadata": {},
   "outputs": [
    {
     "name": "stdout",
     "output_type": "stream",
     "text": [
      "nhiều kỹ năng khác nhau\n"
     ]
    }
   ],
   "source": [
    "#để xóa dấu cách, ký tự thừa; ta dùng câu lệnh TÊN_HÀM.strip()\n",
    "học_lt = \"   nhiều kỹ năng khác nhau\"\n",
    "a = học_lt.strip()\n",
    "print(a)"
   ]
  },
  {
   "cell_type": "code",
   "execution_count": 5,
   "id": "6bcfadb5",
   "metadata": {},
   "outputs": [
    {
     "name": "stdout",
     "output_type": "stream",
     "text": [
      "5\n"
     ]
    }
   ],
   "source": [
    "# để kiểm tra ký tự, chuỗi đó xuất hiện bao nhiêu lần, ta dùng hàm \"count(kí tự cần kiểm tra xuất hiện bao lần )\"\n",
    "ta_có = \" cáiiiii gì mà chả được\"\n",
    "print(ta_có.count(\"i\"))"
   ]
  },
  {
   "cell_type": "code",
   "execution_count": 6,
   "id": "4de70c78",
   "metadata": {},
   "outputs": [
    {
     "name": "stdout",
     "output_type": "stream",
     "text": [
      "Ádaaffffdsh\n"
     ]
    }
   ],
   "source": [
    "# để chuyển ký tự đầu sang chữ viết hoa, ta dùng lệnh TÊN_HÀM.capitalize\n",
    "vd = \"ádaaffffdsh\"\n",
    "str_2 = vd.capitalize()\n",
    "print(str_2)"
   ]
  },
  {
   "cell_type": "code",
   "execution_count": 9,
   "id": "a5f58b95",
   "metadata": {},
   "outputs": [
    {
     "name": "stdout",
     "output_type": "stream",
     "text": [
      "hellodfghfdsasdfg\n"
     ]
    }
   ],
   "source": [
    "#để đổi giá trị nào đó sang giá trị khác/cụm từ khác; ta sử dụng hàm TÊN_BIẾN.replace(\"chữ số muốn thay đổi\", \"từ/ cụm từ/ ký hiệu mới muốn thay thế\"). \n",
    "vidu = \"ádfghfdsasdfg\"\n",
    "vd = vidu.replace(\"á\",\"hello\")\n",
    "print(vd)"
   ]
  },
  {
   "cell_type": "code",
   "execution_count": 14,
   "id": "ebac3458",
   "metadata": {},
   "outputs": [
    {
     "name": "stdout",
     "output_type": "stream",
     "text": [
      "6\n"
     ]
    }
   ],
   "source": [
    "# để tìm ký tự nào đó xuất hiện ở vị trí số mấy, ta sử dụng hàm find. Cụ thể là TÊN_HÀM.find(\"chữ số muốn tìm xem xuất hiện ở vị trí nào\"). Nếu trường hợp không tìm thấy vị trí(là không có) thì nó sẽ hiện ra kết quả là -1 \n",
    "taco = \"caigido\"\n",
    "print(taco.find(\"o\"))"
   ]
  },
  {
   "cell_type": "code",
   "execution_count": 20,
   "id": "c085b401",
   "metadata": {},
   "outputs": [
    {
     "name": "stdout",
     "output_type": "stream",
     "text": [
      "True\n",
      "False\n"
     ]
    }
   ],
   "source": [
    "# để kiểm tra chuỗi có ( chữ cái và số), (chuỗi ký tự đặc biệt); ta sử dụng hàm TÊN_HÀM.isalnum()\n",
    "chuỗi_bg = \"hômnaylàthứmấy\"\n",
    "print(chuỗi_bg.isalnum())\n",
    "chuỗi_thứ2 = \"âsfasf755&565\" # có ký tự đặc biệt là &\n",
    "print(chuỗi_thứ2.isalnum())\n",
    "# nó sẽ tính cả dấu cách. Sau khai báo hàm không được để dấu cách mà phải viết liền sau dấu \"\"\n",
    "# cũng có thể thay thế bằng hàm Tên_hàm.isdigit() . Nó cũng sẽ tương tự như hàm trên"
   ]
  },
  {
   "cell_type": "code",
   "execution_count": 33,
   "id": "9d1e5039",
   "metadata": {},
   "outputs": [
    {
     "name": "stdout",
     "output_type": "stream",
     "text": [
      "['english', '=', '78', 'Science', '=', '83', 'Math', '=', '68', 'History', '=', '65']\n",
      "78\n",
      "161\n",
      "229\n",
      "294\n",
      "tổng các số trong chuỗi trên là: 294\n",
      "tổng các số trong chuỗi trên là:  294\n",
      "trung bình cộng của các số trên là: 73.5\n"
     ]
    }
   ],
   "source": [
    "# Cho:\n",
    "#str1 = \" english = 78Science = 83Math = 68History = 65\"\n",
    "#1. Tính tổng các số trong chuỗi trên\n",
    "#2. Tính trung bình cộng\n",
    "\n",
    "a = \"english = 78 Science = 83 Math = 68 History = 65\"\n",
    "tach = a.split()\n",
    "print(tach)\n",
    "s = 0\n",
    "dem = 0\n",
    "for i in tach:\n",
    "    if i.isdigit(): # kiểm tra chuỗi chỉ dành cho số \n",
    "        s = s+int(i)\n",
    "        dem += 1\n",
    "        print (s)\n",
    "print(f\"tổng các số trong chuỗi trên là: {s}\")\n",
    "# hoặc cách viết khác là \n",
    "print(f\"tổng các số trong chuỗi trên là: \",s)\n",
    "# tính trung bình cộng là\n",
    "print(f\"trung bình cộng của các số trên là: {s/dem}\")"
   ]
  },
  {
   "cell_type": "code",
   "execution_count": null,
   "id": "a96792d8",
   "metadata": {},
   "outputs": [],
   "source": [
    "# viết chương trình kiểm tra tính hợp lệ của mật khẩu:\n",
    "# Mật khẩu hợp lệ khi có ít nhất 6 ký tự chứa ít nhất 1 chữ cái( chữ cái thường hoặc hoa đều được)\n",
    "# Chứa ít nhất 1 chữ số \n",
    "# * Cho người dùng nhập vào mật khẩu để login/ so sánh, nếu đúng mở cửa, sai quá 5 lần khóa đăng nhập hoặc thoát chương trình\n"
   ]
  },
  {
   "cell_type": "code",
   "execution_count": null,
   "id": "7f8b9435",
   "metadata": {},
   "outputs": [],
   "source": [
    "n = input(\" hãy nhập mật khẩu \")\n",
    "x = bool\n",
    "y = bool # kiểu true hoặc false \n",
    "for i in n:\n",
    "    if i.isdigit():\n",
    "        x =True \n",
    "        break # nó sẽ thoát luôn \n",
    "    else: \n",
    "        x =False\n",
    "for i in n: \n",
    "    if i.isalpha():\n",
    "        y = True \n",
    "        break \n",
    "    else:\n",
    "        y = False # True và False phân biệt chữ hoa và chữ thường\n",
    "print(x,y)\n",
    "while len(n) <= 6 or x ==False or y ==False:\n",
    "    n = input(\" hãy nhập lại mật khẩu phải bao gồm 1 số hoặc 1 ký tự: \")\n",
    "else: \n",
    "    print(\" mật khẩu hợp lệ\") "
   ]
  },
  {
   "cell_type": "code",
   "execution_count": null,
   "id": "06b48799",
   "metadata": {},
   "outputs": [],
   "source": []
  },
  {
   "cell_type": "code",
   "execution_count": null,
   "id": "56d11b71",
   "metadata": {},
   "outputs": [],
   "source": []
  }
 ],
 "metadata": {
  "kernelspec": {
   "display_name": "Python 3 (ipykernel)",
   "language": "python",
   "name": "python3"
  },
  "language_info": {
   "codemirror_mode": {
    "name": "ipython",
    "version": 3
   },
   "file_extension": ".py",
   "mimetype": "text/x-python",
   "name": "python",
   "nbconvert_exporter": "python",
   "pygments_lexer": "ipython3",
   "version": "3.11.3"
  }
 },
 "nbformat": 4,
 "nbformat_minor": 5
}
